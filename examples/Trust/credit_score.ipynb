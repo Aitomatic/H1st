{
 "metadata": {
  "language_info": {
   "codemirror_mode": {
    "name": "ipython",
    "version": 3
   },
   "file_extension": ".py",
   "mimetype": "text/x-python",
   "name": "python",
   "nbconvert_exporter": "python",
   "pygments_lexer": "ipython3",
   "version": "3.8.3-final"
  },
  "orig_nbformat": 2,
  "kernelspec": {
   "name": "Python 3.8.3 64-bit ('base': conda)",
   "display_name": "Python 3.8.3 64-bit ('base': conda)",
   "metadata": {
    "interpreter": {
     "hash": "b5ea0f57547914a7da5a59b81baf8d6cf030f93869a99d0125120ca1befce108"
    }
   }
  }
 },
 "nbformat": 4,
 "nbformat_minor": 2,
 "cells": [
  {
   "cell_type": "code",
   "execution_count": 21,
   "metadata": {},
   "outputs": [],
   "source": [
    "import numpy as np\n",
    "np.random.seed(0)\n",
    "import pandas as pd\n",
    "from matplotlib import pyplot as plt\n",
    "from pandas_profiling import ProfileReport\n",
    "from aif360.datasets import GermanDataset\n",
    "from aif360.metrics import BinaryLabelDatasetMetric\n",
    "from aif360.algorithms.preprocessing import Reweighing"
   ]
  },
  {
   "cell_type": "code",
   "execution_count": 4,
   "metadata": {},
   "outputs": [],
   "source": [
    "# Load data, specify protected attribute\n",
    "credit_data = GermanDataset(\n",
    "    protected_attribute_names=['age'],\n",
    "    privileged_classes=[lambda x: x >= 25],\n",
    "    features_to_drop=['personal_status', 'sex']\n",
    ")\n",
    "old_group = [{'age': 1}]\n",
    "young_group = [{'age': 0}]"
   ]
  },
  {
   "cell_type": "code",
   "execution_count": 5,
   "metadata": {},
   "outputs": [
    {
     "output_type": "execute_result",
     "data": {
      "text/plain": [
       "             month  credit_amount  investment_as_income_percentage  \\\n",
       "count  1000.000000    1000.000000                      1000.000000   \n",
       "mean     20.903000    3271.258000                         2.973000   \n",
       "std      12.058814    2822.736876                         1.118715   \n",
       "min       4.000000     250.000000                         1.000000   \n",
       "25%      12.000000    1365.500000                         2.000000   \n",
       "50%      18.000000    2319.500000                         3.000000   \n",
       "75%      24.000000    3972.250000                         4.000000   \n",
       "max      72.000000   18424.000000                         4.000000   \n",
       "\n",
       "       residence_since          age  number_of_credits  people_liable_for  \\\n",
       "count      1000.000000  1000.000000        1000.000000        1000.000000   \n",
       "mean          2.845000     0.851000           1.407000           1.155000   \n",
       "std           1.103718     0.356267           0.577654           0.362086   \n",
       "min           1.000000     0.000000           1.000000           1.000000   \n",
       "25%           2.000000     1.000000           1.000000           1.000000   \n",
       "50%           3.000000     1.000000           1.000000           1.000000   \n",
       "75%           4.000000     1.000000           2.000000           1.000000   \n",
       "max           4.000000     1.000000           4.000000           2.000000   \n",
       "\n",
       "        status=A11   status=A12   status=A13  ...  housing=A153  \\\n",
       "count  1000.000000  1000.000000  1000.000000  ...   1000.000000   \n",
       "mean      0.274000     0.269000     0.063000  ...      0.108000   \n",
       "std       0.446232     0.443662     0.243085  ...      0.310536   \n",
       "min       0.000000     0.000000     0.000000  ...      0.000000   \n",
       "25%       0.000000     0.000000     0.000000  ...      0.000000   \n",
       "50%       0.000000     0.000000     0.000000  ...      0.000000   \n",
       "75%       1.000000     1.000000     0.000000  ...      0.000000   \n",
       "max       1.000000     1.000000     1.000000  ...      1.000000   \n",
       "\n",
       "       skill_level=A171  skill_level=A172  skill_level=A173  skill_level=A174  \\\n",
       "count       1000.000000         1000.0000       1000.000000       1000.000000   \n",
       "mean           0.022000            0.2000          0.630000          0.148000   \n",
       "std            0.146757            0.4002          0.483046          0.355278   \n",
       "min            0.000000            0.0000          0.000000          0.000000   \n",
       "25%            0.000000            0.0000          0.000000          0.000000   \n",
       "50%            0.000000            0.0000          1.000000          0.000000   \n",
       "75%            0.000000            0.0000          1.000000          0.000000   \n",
       "max            1.000000            1.0000          1.000000          1.000000   \n",
       "\n",
       "       telephone=A191  telephone=A192  foreign_worker=A201  \\\n",
       "count     1000.000000     1000.000000          1000.000000   \n",
       "mean         0.596000        0.404000             0.963000   \n",
       "std          0.490943        0.490943             0.188856   \n",
       "min          0.000000        0.000000             0.000000   \n",
       "25%          0.000000        0.000000             1.000000   \n",
       "50%          1.000000        0.000000             1.000000   \n",
       "75%          1.000000        1.000000             1.000000   \n",
       "max          1.000000        1.000000             1.000000   \n",
       "\n",
       "       foreign_worker=A202       credit  \n",
       "count          1000.000000  1000.000000  \n",
       "mean              0.037000     1.300000  \n",
       "std               0.188856     0.458487  \n",
       "min               0.000000     1.000000  \n",
       "25%               0.000000     1.000000  \n",
       "50%               0.000000     1.000000  \n",
       "75%               0.000000     2.000000  \n",
       "max               1.000000     2.000000  \n",
       "\n",
       "[8 rows x 58 columns]"
      ],
      "text/html": "<div>\n<style scoped>\n    .dataframe tbody tr th:only-of-type {\n        vertical-align: middle;\n    }\n\n    .dataframe tbody tr th {\n        vertical-align: top;\n    }\n\n    .dataframe thead th {\n        text-align: right;\n    }\n</style>\n<table border=\"1\" class=\"dataframe\">\n  <thead>\n    <tr style=\"text-align: right;\">\n      <th></th>\n      <th>month</th>\n      <th>credit_amount</th>\n      <th>investment_as_income_percentage</th>\n      <th>residence_since</th>\n      <th>age</th>\n      <th>number_of_credits</th>\n      <th>people_liable_for</th>\n      <th>status=A11</th>\n      <th>status=A12</th>\n      <th>status=A13</th>\n      <th>...</th>\n      <th>housing=A153</th>\n      <th>skill_level=A171</th>\n      <th>skill_level=A172</th>\n      <th>skill_level=A173</th>\n      <th>skill_level=A174</th>\n      <th>telephone=A191</th>\n      <th>telephone=A192</th>\n      <th>foreign_worker=A201</th>\n      <th>foreign_worker=A202</th>\n      <th>credit</th>\n    </tr>\n  </thead>\n  <tbody>\n    <tr>\n      <th>count</th>\n      <td>1000.000000</td>\n      <td>1000.000000</td>\n      <td>1000.000000</td>\n      <td>1000.000000</td>\n      <td>1000.000000</td>\n      <td>1000.000000</td>\n      <td>1000.000000</td>\n      <td>1000.000000</td>\n      <td>1000.000000</td>\n      <td>1000.000000</td>\n      <td>...</td>\n      <td>1000.000000</td>\n      <td>1000.000000</td>\n      <td>1000.0000</td>\n      <td>1000.000000</td>\n      <td>1000.000000</td>\n      <td>1000.000000</td>\n      <td>1000.000000</td>\n      <td>1000.000000</td>\n      <td>1000.000000</td>\n      <td>1000.000000</td>\n    </tr>\n    <tr>\n      <th>mean</th>\n      <td>20.903000</td>\n      <td>3271.258000</td>\n      <td>2.973000</td>\n      <td>2.845000</td>\n      <td>0.851000</td>\n      <td>1.407000</td>\n      <td>1.155000</td>\n      <td>0.274000</td>\n      <td>0.269000</td>\n      <td>0.063000</td>\n      <td>...</td>\n      <td>0.108000</td>\n      <td>0.022000</td>\n      <td>0.2000</td>\n      <td>0.630000</td>\n      <td>0.148000</td>\n      <td>0.596000</td>\n      <td>0.404000</td>\n      <td>0.963000</td>\n      <td>0.037000</td>\n      <td>1.300000</td>\n    </tr>\n    <tr>\n      <th>std</th>\n      <td>12.058814</td>\n      <td>2822.736876</td>\n      <td>1.118715</td>\n      <td>1.103718</td>\n      <td>0.356267</td>\n      <td>0.577654</td>\n      <td>0.362086</td>\n      <td>0.446232</td>\n      <td>0.443662</td>\n      <td>0.243085</td>\n      <td>...</td>\n      <td>0.310536</td>\n      <td>0.146757</td>\n      <td>0.4002</td>\n      <td>0.483046</td>\n      <td>0.355278</td>\n      <td>0.490943</td>\n      <td>0.490943</td>\n      <td>0.188856</td>\n      <td>0.188856</td>\n      <td>0.458487</td>\n    </tr>\n    <tr>\n      <th>min</th>\n      <td>4.000000</td>\n      <td>250.000000</td>\n      <td>1.000000</td>\n      <td>1.000000</td>\n      <td>0.000000</td>\n      <td>1.000000</td>\n      <td>1.000000</td>\n      <td>0.000000</td>\n      <td>0.000000</td>\n      <td>0.000000</td>\n      <td>...</td>\n      <td>0.000000</td>\n      <td>0.000000</td>\n      <td>0.0000</td>\n      <td>0.000000</td>\n      <td>0.000000</td>\n      <td>0.000000</td>\n      <td>0.000000</td>\n      <td>0.000000</td>\n      <td>0.000000</td>\n      <td>1.000000</td>\n    </tr>\n    <tr>\n      <th>25%</th>\n      <td>12.000000</td>\n      <td>1365.500000</td>\n      <td>2.000000</td>\n      <td>2.000000</td>\n      <td>1.000000</td>\n      <td>1.000000</td>\n      <td>1.000000</td>\n      <td>0.000000</td>\n      <td>0.000000</td>\n      <td>0.000000</td>\n      <td>...</td>\n      <td>0.000000</td>\n      <td>0.000000</td>\n      <td>0.0000</td>\n      <td>0.000000</td>\n      <td>0.000000</td>\n      <td>0.000000</td>\n      <td>0.000000</td>\n      <td>1.000000</td>\n      <td>0.000000</td>\n      <td>1.000000</td>\n    </tr>\n    <tr>\n      <th>50%</th>\n      <td>18.000000</td>\n      <td>2319.500000</td>\n      <td>3.000000</td>\n      <td>3.000000</td>\n      <td>1.000000</td>\n      <td>1.000000</td>\n      <td>1.000000</td>\n      <td>0.000000</td>\n      <td>0.000000</td>\n      <td>0.000000</td>\n      <td>...</td>\n      <td>0.000000</td>\n      <td>0.000000</td>\n      <td>0.0000</td>\n      <td>1.000000</td>\n      <td>0.000000</td>\n      <td>1.000000</td>\n      <td>0.000000</td>\n      <td>1.000000</td>\n      <td>0.000000</td>\n      <td>1.000000</td>\n    </tr>\n    <tr>\n      <th>75%</th>\n      <td>24.000000</td>\n      <td>3972.250000</td>\n      <td>4.000000</td>\n      <td>4.000000</td>\n      <td>1.000000</td>\n      <td>2.000000</td>\n      <td>1.000000</td>\n      <td>1.000000</td>\n      <td>1.000000</td>\n      <td>0.000000</td>\n      <td>...</td>\n      <td>0.000000</td>\n      <td>0.000000</td>\n      <td>0.0000</td>\n      <td>1.000000</td>\n      <td>0.000000</td>\n      <td>1.000000</td>\n      <td>1.000000</td>\n      <td>1.000000</td>\n      <td>0.000000</td>\n      <td>2.000000</td>\n    </tr>\n    <tr>\n      <th>max</th>\n      <td>72.000000</td>\n      <td>18424.000000</td>\n      <td>4.000000</td>\n      <td>4.000000</td>\n      <td>1.000000</td>\n      <td>4.000000</td>\n      <td>2.000000</td>\n      <td>1.000000</td>\n      <td>1.000000</td>\n      <td>1.000000</td>\n      <td>...</td>\n      <td>1.000000</td>\n      <td>1.000000</td>\n      <td>1.0000</td>\n      <td>1.000000</td>\n      <td>1.000000</td>\n      <td>1.000000</td>\n      <td>1.000000</td>\n      <td>1.000000</td>\n      <td>1.000000</td>\n      <td>2.000000</td>\n    </tr>\n  </tbody>\n</table>\n<p>8 rows × 58 columns</p>\n</div>"
     },
     "metadata": {},
     "execution_count": 5
    }
   ],
   "source": [
    "# PANDAS PROFILE\n",
    "credit_df = credit_data.convert_to_dataframe()[0]\n",
    "credit_df.describe()\n",
    "# credit_df.profile_report()"
   ]
  },
  {
   "cell_type": "code",
   "execution_count": 8,
   "metadata": {},
   "outputs": [
    {
     "output_type": "error",
     "ename": "TypeError",
     "evalue": "'dataset' should be a BinaryLabelDataset or a MulticlassLabelDataset",
     "traceback": [
      "\u001b[0;31m---------------------------------------------------------------------------\u001b[0m",
      "\u001b[0;31mTypeError\u001b[0m                                 Traceback (most recent call last)",
      "\u001b[0;32m<ipython-input-8-8c9d6f57cc44>\u001b[0m in \u001b[0;36m<module>\u001b[0;34m\u001b[0m\n\u001b[1;32m      1\u001b[0m \u001b[0;31m# AIF 360 PROFILE\u001b[0m\u001b[0;34m\u001b[0m\u001b[0;34m\u001b[0m\u001b[0;34m\u001b[0m\u001b[0m\n\u001b[0;32m----> 2\u001b[0;31m \u001b[0mmetrics\u001b[0m \u001b[0;34m=\u001b[0m \u001b[0mBinaryLabelDatasetMetric\u001b[0m\u001b[0;34m(\u001b[0m\u001b[0mcredit_df\u001b[0m\u001b[0;34m,\u001b[0m \u001b[0mprivileged_groups\u001b[0m\u001b[0;34m=\u001b[0m\u001b[0mold_group\u001b[0m\u001b[0;34m,\u001b[0m \u001b[0munprivileged_groups\u001b[0m\u001b[0;34m=\u001b[0m\u001b[0myoung_group\u001b[0m\u001b[0;34m)\u001b[0m\u001b[0;34m\u001b[0m\u001b[0;34m\u001b[0m\u001b[0m\n\u001b[0m\u001b[1;32m      3\u001b[0m \u001b[0mprint\u001b[0m\u001b[0;34m(\u001b[0m\u001b[0mmetrics\u001b[0m\u001b[0;34m.\u001b[0m\u001b[0mconsistency\u001b[0m\u001b[0;34m(\u001b[0m\u001b[0;34m)\u001b[0m\u001b[0;34m)\u001b[0m\u001b[0;34m\u001b[0m\u001b[0;34m\u001b[0m\u001b[0m\n\u001b[1;32m      4\u001b[0m \u001b[0mprint\u001b[0m\u001b[0;34m(\u001b[0m\u001b[0mmetrics\u001b[0m\u001b[0;34m.\u001b[0m\u001b[0mmean_difference\u001b[0m\u001b[0;34m(\u001b[0m\u001b[0;34m)\u001b[0m\u001b[0;34m)\u001b[0m\u001b[0;34m\u001b[0m\u001b[0;34m\u001b[0m\u001b[0m\n\u001b[1;32m      5\u001b[0m \u001b[0mprint\u001b[0m\u001b[0;34m(\u001b[0m\u001b[0mmetrics\u001b[0m\u001b[0;34m.\u001b[0m\u001b[0mdisparate_impact\u001b[0m\u001b[0;34m(\u001b[0m\u001b[0;34m)\u001b[0m\u001b[0;34m)\u001b[0m\u001b[0;34m\u001b[0m\u001b[0;34m\u001b[0m\u001b[0m\n",
      "\u001b[0;32m~/anaconda3/lib/python3.8/site-packages/aif360/metrics/binary_label_dataset_metric.py\u001b[0m in \u001b[0;36m__init__\u001b[0;34m(self, dataset, unprivileged_groups, privileged_groups)\u001b[0m\n\u001b[1;32m     29\u001b[0m         \"\"\"\n\u001b[1;32m     30\u001b[0m         \u001b[0;32mif\u001b[0m \u001b[0;32mnot\u001b[0m \u001b[0misinstance\u001b[0m\u001b[0;34m(\u001b[0m\u001b[0mdataset\u001b[0m\u001b[0;34m,\u001b[0m \u001b[0mBinaryLabelDataset\u001b[0m\u001b[0;34m)\u001b[0m \u001b[0;32mand\u001b[0m \u001b[0;32mnot\u001b[0m \u001b[0misinstance\u001b[0m\u001b[0;34m(\u001b[0m\u001b[0mdataset\u001b[0m\u001b[0;34m,\u001b[0m \u001b[0mMulticlassLabelDataset\u001b[0m\u001b[0;34m)\u001b[0m \u001b[0;34m:\u001b[0m\u001b[0;34m\u001b[0m\u001b[0;34m\u001b[0m\u001b[0m\n\u001b[0;32m---> 31\u001b[0;31m             \u001b[0;32mraise\u001b[0m \u001b[0mTypeError\u001b[0m\u001b[0;34m(\u001b[0m\u001b[0;34m\"'dataset' should be a BinaryLabelDataset or a MulticlassLabelDataset\"\u001b[0m\u001b[0;34m)\u001b[0m\u001b[0;34m\u001b[0m\u001b[0;34m\u001b[0m\u001b[0m\n\u001b[0m\u001b[1;32m     32\u001b[0m \u001b[0;34m\u001b[0m\u001b[0m\n\u001b[1;32m     33\u001b[0m         \u001b[0;31m# sets self.dataset, self.unprivileged_groups, self.privileged_groups\u001b[0m\u001b[0;34m\u001b[0m\u001b[0;34m\u001b[0m\u001b[0;34m\u001b[0m\u001b[0m\n",
      "\u001b[0;31mTypeError\u001b[0m: 'dataset' should be a BinaryLabelDataset or a MulticlassLabelDataset"
     ]
    }
   ],
   "source": [
    "# AIF 360 PROFILE\n",
    "metrics = BinaryLabelDatasetMetric(credit_df, privileged_groups=old_group, unprivileged_groups=young_group)\n",
    "print(metrics.consistency())\n",
    "print(metrics.mean_difference())\n",
    "print(metrics.disparate_impact())\n",
    "print(metrics.smoothed_empirical_differential_fairness())\n",
    "# so. what do any of these numbers mean..."
   ]
  },
  {
   "cell_type": "code",
   "execution_count": 10,
   "metadata": {},
   "outputs": [
    {
     "output_type": "stream",
     "name": "stdout",
     "text": [
      "            month  credit_amount  investment_as_income_percentage  \\\ncount  851.000000     851.000000                       851.000000   \nmean    20.975323    3325.972973                         3.008226   \nstd     11.926958    2813.391664                         1.100237   \nmin      4.000000     250.000000                         1.000000   \n25%     12.000000    1386.000000                         2.000000   \n50%     18.000000    2359.000000                         3.000000   \n75%     24.000000    4085.000000                         4.000000   \nmax     60.000000   18424.000000                         4.000000   \n\n       residence_since    age  number_of_credits  people_liable_for  \\\ncount       851.000000  851.0         851.000000         851.000000   \nmean          2.834313    1.0           1.443008           1.175088   \nstd           1.089867    0.0           0.596052           0.380266   \nmin           1.000000    1.0           1.000000           1.000000   \n25%           2.000000    1.0           1.000000           1.000000   \n50%           3.000000    1.0           1.000000           1.000000   \n75%           4.000000    1.0           2.000000           1.000000   \nmax           4.000000    1.0           4.000000           2.000000   \n\n       status=A11  status=A12  status=A13  ...  housing=A153  \\\ncount  851.000000  851.000000  851.000000  ...    851.000000   \nmean     0.254994    0.262045    0.064630  ...      0.121034   \nstd      0.436114    0.440005    0.246016  ...      0.326359   \nmin      0.000000    0.000000    0.000000  ...      0.000000   \n25%      0.000000    0.000000    0.000000  ...      0.000000   \n50%      0.000000    0.000000    0.000000  ...      0.000000   \n75%      1.000000    1.000000    0.000000  ...      0.000000   \nmax      1.000000    1.000000    1.000000  ...      1.000000   \n\n       skill_level=A171  skill_level=A172  skill_level=A173  skill_level=A174  \\\ncount        851.000000        851.000000        851.000000        851.000000   \nmean           0.021152          0.196240          0.613396          0.169213   \nstd            0.143974          0.397386          0.487258          0.375160   \nmin            0.000000          0.000000          0.000000          0.000000   \n25%            0.000000          0.000000          0.000000          0.000000   \n50%            0.000000          0.000000          1.000000          0.000000   \n75%            0.000000          0.000000          1.000000          0.000000   \nmax            1.000000          1.000000          1.000000          1.000000   \n\n       telephone=A191  telephone=A192  foreign_worker=A201  \\\ncount      851.000000      851.000000           851.000000   \nmean         0.567568        0.432432             0.960047   \nstd          0.495705        0.495705             0.195964   \nmin          0.000000        0.000000             0.000000   \n25%          0.000000        0.000000             1.000000   \n50%          1.000000        0.000000             1.000000   \n75%          1.000000        1.000000             1.000000   \nmax          1.000000        1.000000             1.000000   \n\n       foreign_worker=A202      credit  \ncount           851.000000  851.000000  \nmean              0.039953    1.280846  \nstd               0.195964    0.449677  \nmin               0.000000    1.000000  \n25%               0.000000    1.000000  \n50%               0.000000    1.000000  \n75%               0.000000    2.000000  \nmax               1.000000    2.000000  \n\n[8 rows x 58 columns]\n            month  credit_amount  investment_as_income_percentage  \\\ncount  149.000000     149.000000                       149.000000   \nmean    20.489933    2958.758389                         2.771812   \nstd     12.820285    2865.074478                         1.203154   \nmin      4.000000     276.000000                         1.000000   \n25%     12.000000    1246.000000                         2.000000   \n50%     18.000000    2030.000000                         3.000000   \n75%     24.000000    3573.000000                         4.000000   \nmax     72.000000   15672.000000                         4.000000   \n\n       residence_since    age  number_of_credits  people_liable_for  \\\ncount       149.000000  149.0         149.000000         149.000000   \nmean          2.906040    0.0           1.201342           1.040268   \nstd           1.181743    0.0           0.402356           0.197251   \nmin           1.000000    0.0           1.000000           1.000000   \n25%           2.000000    0.0           1.000000           1.000000   \n50%           3.000000    0.0           1.000000           1.000000   \n75%           4.000000    0.0           1.000000           1.000000   \nmax           4.000000    0.0           2.000000           2.000000   \n\n       status=A11  status=A12  status=A13  ...  housing=A153  \\\ncount  149.000000  149.000000  149.000000  ...    149.000000   \nmean     0.382550    0.308725    0.053691  ...      0.033557   \nstd      0.487649    0.463525    0.226168  ...      0.180693   \nmin      0.000000    0.000000    0.000000  ...      0.000000   \n25%      0.000000    0.000000    0.000000  ...      0.000000   \n50%      0.000000    0.000000    0.000000  ...      0.000000   \n75%      1.000000    1.000000    0.000000  ...      0.000000   \nmax      1.000000    1.000000    1.000000  ...      1.000000   \n\n       skill_level=A171  skill_level=A172  skill_level=A173  skill_level=A174  \\\ncount        149.000000        149.000000        149.000000        149.000000   \nmean           0.026846          0.221477          0.724832          0.026846   \nstd            0.162177          0.416641          0.448105          0.162177   \nmin            0.000000          0.000000          0.000000          0.000000   \n25%            0.000000          0.000000          0.000000          0.000000   \n50%            0.000000          0.000000          1.000000          0.000000   \n75%            0.000000          0.000000          1.000000          0.000000   \nmax            1.000000          1.000000          1.000000          1.000000   \n\n       telephone=A191  telephone=A192  foreign_worker=A201  \\\ncount      149.000000      149.000000           149.000000   \nmean         0.758389        0.241611             0.979866   \nstd          0.429503        0.429503             0.140933   \nmin          0.000000        0.000000             0.000000   \n25%          1.000000        0.000000             1.000000   \n50%          1.000000        0.000000             1.000000   \n75%          1.000000        0.000000             1.000000   \nmax          1.000000        1.000000             1.000000   \n\n       foreign_worker=A202      credit  \ncount           149.000000  149.000000  \nmean              0.020134    1.409396  \nstd               0.140933    0.493381  \nmin               0.000000    1.000000  \n25%               0.000000    1.000000  \n50%               0.000000    1.000000  \n75%               0.000000    2.000000  \nmax               1.000000    2.000000  \n\n[8 rows x 58 columns]\n"
     ]
    }
   ],
   "source": [
    "# PARTITION\n",
    "old_df = credit_df[credit_df['age'] == 1]\n",
    "young_df = credit_df[credit_df['age'] == 0]\n",
    "# pandas profile on each partition\n",
    "print(old_df.describe())\n",
    "print(young_df.describe())"
   ]
  },
  {
   "cell_type": "code",
   "execution_count": 37,
   "metadata": {},
   "outputs": [
    {
     "output_type": "stream",
     "name": "stdout",
     "text": [
      "(array([700.,   0.,   0.,   0.,   0.,   0.,   0.,   0.,   0., 300.]), array([1. , 1.1, 1.2, 1.3, 1.4, 1.5, 1.6, 1.7, 1.8, 1.9, 2. ]), <a list of 10 Patch objects>)\n(array([612.,   0.,   0.,   0.,   0.,   0.,   0.,   0.,   0., 239.]), array([1. , 1.1, 1.2, 1.3, 1.4, 1.5, 1.6, 1.7, 1.8, 1.9, 2. ]), <a list of 10 Patch objects>)\n(array([88.,  0.,  0.,  0.,  0.,  0.,  0.,  0.,  0., 61.]), array([1. , 1.1, 1.2, 1.3, 1.4, 1.5, 1.6, 1.7, 1.8, 1.9, 2. ]), <a list of 10 Patch objects>)\n"
     ]
    }
   ],
   "source": [
    "print(plt.hist(credit_df['credit']))\n",
    "print(plt.hist(old_df['credit']))\n",
    "print(plt.hist(young_df['credit']))"
   ]
  },
  {
   "cell_type": "code",
   "execution_count": 42,
   "metadata": {},
   "outputs": [
    {
     "output_type": "stream",
     "name": "stdout",
     "text": [
      "(array([700.,   0.,   0.,   0.,   0.,   0.,   0.,   0.,   0., 300.]), array([1. , 1.1, 1.2, 1.3, 1.4, 1.5, 1.6, 1.7, 1.8, 1.9, 2. ]), <a list of 10 Patch objects>)\n(array([271.,   0.,   0.,   0.,   0.,   0.,   0.,   0.,   0.,  96.]), array([1. , 1.1, 1.2, 1.3, 1.4, 1.5, 1.6, 1.7, 1.8, 1.9, 2. ]), <a list of 10 Patch objects>)\n(array([429.,   0.,   0.,   0.,   0.,   0.,   0.,   0.,   0., 204.]), array([1. , 1.1, 1.2, 1.3, 1.4, 1.5, 1.6, 1.7, 1.8, 1.9, 2. ]), <a list of 10 Patch objects>)\n"
     ]
    }
   ],
   "source": [
    "# PARTITION BY INVESTMENT PERCENTAGE\n",
    "high_invest = credit_df[credit_df['investment_as_income_percentage'] < 3]\n",
    "low_invest = credit_df[credit_df['investment_as_income_percentage'] >= 3]\n",
    "print(plt.hist(credit_df['credit']))\n",
    "print(plt.hist(high_invest['credit']))\n",
    "print(plt.hist(low_invest['credit']))"
   ]
  },
  {
   "cell_type": "code",
   "execution_count": 43,
   "metadata": {},
   "outputs": [
    {
     "output_type": "stream",
     "name": "stdout",
     "text": [
      "(array([700.,   0.,   0.,   0.,   0.,   0.,   0.,   0.,   0., 300.]), array([1. , 1.1, 1.2, 1.3, 1.4, 1.5, 1.6, 1.7, 1.8, 1.9, 2. ]), <a list of 10 Patch objects>)\n(array([591.,   0.,   0.,   0.,   0.,   0.,   0.,   0.,   0., 254.]), array([1. , 1.1, 1.2, 1.3, 1.4, 1.5, 1.6, 1.7, 1.8, 1.9, 2. ]), <a list of 10 Patch objects>)\n(array([109.,   0.,   0.,   0.,   0.,   0.,   0.,   0.,   0.,  46.]), array([1. , 1.1, 1.2, 1.3, 1.4, 1.5, 1.6, 1.7, 1.8, 1.9, 2. ]), <a list of 10 Patch objects>)\n"
     ]
    }
   ],
   "source": [
    "# PARTITION BY PEOPLE LIABLE FOR\n",
    "one_liable = credit_df[credit_df['people_liable_for'] == 1]\n",
    "two_liable = credit_df[credit_df['people_liable_for'] == 2]\n",
    "print(plt.hist(credit_df['credit']))\n",
    "print(plt.hist(one_liable['credit']))\n",
    "print(plt.hist(two_liable['credit']))"
   ]
  },
  {
   "cell_type": "code",
   "execution_count": null,
   "metadata": {},
   "outputs": [],
   "source": []
  }
 ]
}