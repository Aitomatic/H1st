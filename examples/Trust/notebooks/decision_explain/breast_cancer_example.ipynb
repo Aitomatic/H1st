{
 "cells": [
  {
   "cell_type": "code",
   "execution_count": 1,
   "metadata": {},
   "outputs": [],
   "source": [
    "import matplotlib.pyplot as plt\n",
    "import seaborn as sns\n",
    "import pandas as pd\n",
    "import numpy as np\n",
    "pd.set_option('display.max_columns', 999)\n",
    "pd.set_option('display.max_rows', 2000)"
   ]
  },
  {
   "cell_type": "code",
   "execution_count": 2,
   "metadata": {},
   "outputs": [],
   "source": [
    "import h1st as h1\n",
    "h1.init()\n",
    "from examples.Trust.models.breast_cancer import BreastCancer"
   ]
  },
  {
   "cell_type": "code",
   "execution_count": 3,
   "metadata": {},
   "outputs": [],
   "source": [
    "# Instantiate the LoanPrediction model\n",
    "model = BreastCancer()"
   ]
  },
  {
   "cell_type": "code",
   "execution_count": 4,
   "metadata": {},
   "outputs": [],
   "source": [
    "# Load the Wine Quality dataset\n",
    "data = model.load_data()"
   ]
  },
  {
   "cell_type": "code",
   "execution_count": 5,
   "metadata": {},
   "outputs": [],
   "source": [
    "# Explore the Wine Quality Rating Labels\n",
    "# model.explore_data(data)"
   ]
  },
  {
   "cell_type": "code",
   "execution_count": 6,
   "metadata": {},
   "outputs": [],
   "source": [
    "# Prepare the data\n",
    "prepared_data = model.prep(data)"
   ]
  },
  {
   "cell_type": "code",
   "execution_count": 7,
   "metadata": {},
   "outputs": [],
   "source": [
    "# Train the Model\n",
    "model.train(prepared_data)"
   ]
  },
  {
   "cell_type": "code",
   "execution_count": 8,
   "metadata": {},
   "outputs": [
    {
     "data": {
      "text/plain": [
       "{'mae': 0.05263157894736842, 'auc': 0.9453324808184145}"
      ]
     },
     "execution_count": 8,
     "metadata": {},
     "output_type": "execute_result"
    }
   ],
   "source": [
    "# Evaluate the Model\n",
    "model.evaluate(prepared_data)"
   ]
  },
  {
   "cell_type": "code",
   "execution_count": 9,
   "metadata": {},
   "outputs": [],
   "source": [
    "# Make prediction\n",
    "idx = 15\n",
    "pred = model.predict(prepared_data[\"test_df\"].iloc[idx])"
   ]
  },
  {
   "cell_type": "code",
   "execution_count": 10,
   "metadata": {},
   "outputs": [
    {
     "name": "stdout",
     "output_type": "stream",
     "text": [
      "******* Wisconsin Breast Cancer Dataset decision 1 *******\n",
      "\n",
      "******* Factors considered when making the Decision *******\n",
      "\n",
      "    ['concave_points_worst', 'concavity_worst', 'concave_points_mean', 'perimeter_worst', 'smoothness_mean', 'symmetry_worst', 'compactness_worst', 'radius_worst', 'perimeter_mean', 'area_se']   \n",
      "\n",
      "******* Factors that had a Positive Effect on the Decision  *******\n",
      "\n",
      "   concave_points_worst contributed 39.51%\n",
      "\n",
      "   concavity_worst contributed 10.72%\n",
      "\n",
      "   concave_points_mean contributed 9.12%\n",
      "\n",
      "   perimeter_worst contributed 5.78%\n",
      "\n",
      "   smoothness_mean contributed 4.54%\n",
      "\n",
      "   symmetry_worst contributed 3.44%\n",
      "\n",
      "   compactness_worst contributed 2.99%\n",
      "\n",
      "   radius_worst contributed 2.35%\n",
      "\n",
      "******* Factors that had a Negative Effect on the Decision  *******\n",
      "\n",
      "   `perimeter_mean` contributed 6.49%\n",
      "\n",
      "   `area_se` contributed 3.57%\n"
     ]
    }
   ],
   "source": [
    "# Explain Prediction\n",
    "decision = prepared_data[\"test_df\"].iloc[idx], pred\n",
    "explaination = model.explain(dataset_key=\"train_df\", decision=decision)"
   ]
  },
  {
   "cell_type": "code",
   "execution_count": null,
   "metadata": {},
   "outputs": [],
   "source": []
  }
 ],
 "metadata": {
  "kernelspec": {
   "display_name": "venv",
   "language": "python",
   "name": "venv"
  },
  "language_info": {
   "codemirror_mode": {
    "name": "ipython",
    "version": 3
   },
   "file_extension": ".py",
   "mimetype": "text/x-python",
   "name": "python",
   "nbconvert_exporter": "python",
   "pygments_lexer": "ipython3",
   "version": "3.7.3"
  }
 },
 "nbformat": 4,
 "nbformat_minor": 4
}
