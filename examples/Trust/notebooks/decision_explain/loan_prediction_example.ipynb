{
 "cells": [
  {
   "cell_type": "code",
   "execution_count": 1,
   "metadata": {},
   "outputs": [],
   "source": [
    "import matplotlib.pyplot as plt\n",
    "import seaborn as sns\n",
    "import pandas as pd\n",
    "import numpy as np\n",
    "pd.set_option('display.max_columns', 999)\n",
    "pd.set_option('display.max_rows', 2000)"
   ]
  },
  {
   "cell_type": "code",
   "execution_count": 2,
   "metadata": {},
   "outputs": [],
   "source": [
    "import h1st as h1\n",
    "h1.init()\n",
    "from examples.Trust.models.loan_prediction import LoanPrediction"
   ]
  },
  {
   "cell_type": "code",
   "execution_count": 3,
   "metadata": {},
   "outputs": [],
   "source": [
    "# Instantiate the LoanPrediction model\n",
    "model = LoanPrediction()"
   ]
  },
  {
   "cell_type": "code",
   "execution_count": 4,
   "metadata": {},
   "outputs": [],
   "source": [
    "# Load the Wine Quality dataset\n",
    "data = model.load_data()"
   ]
  },
  {
   "cell_type": "code",
   "execution_count": 5,
   "metadata": {},
   "outputs": [],
   "source": [
    "# Explore the Wine Quality Rating Labels\n",
    "# model.explore_data(data)"
   ]
  },
  {
   "cell_type": "code",
   "execution_count": 6,
   "metadata": {},
   "outputs": [],
   "source": [
    "# Prepare the data\n",
    "prepared_data = model.prep(data)"
   ]
  },
  {
   "cell_type": "code",
   "execution_count": 7,
   "metadata": {},
   "outputs": [],
   "source": [
    "# Train the Model\n",
    "model.train(prepared_data)"
   ]
  },
  {
   "cell_type": "code",
   "execution_count": 8,
   "metadata": {},
   "outputs": [
    {
     "data": {
      "text/plain": [
       "{'mae': 0.1875, 'auc': 0.625}"
      ]
     },
     "execution_count": 8,
     "metadata": {},
     "output_type": "execute_result"
    }
   ],
   "source": [
    "# Evaluate the Model\n",
    "model.evaluate(prepared_data)"
   ]
  },
  {
   "cell_type": "code",
   "execution_count": 9,
   "metadata": {},
   "outputs": [],
   "source": [
    "# Make prediction\n",
    "idx = 5\n",
    "pred = model.predict(prepared_data[\"test_df\"].iloc[idx])"
   ]
  },
  {
   "cell_type": "code",
   "execution_count": 10,
   "metadata": {},
   "outputs": [
    {
     "name": "stdout",
     "output_type": "stream",
     "text": [
      "******* LoanPrediction decision 1 *******\n",
      "\n",
      "******* Factors considered when making the Decision *******\n",
      "\n",
      "    ['Loan_Amount_Term', 'Property_Area', 'LoanAmount', 'Dependents', 'Married', 'Self_Employed', 'CoapplicantIncome', 'ApplicantIncome']   \n",
      "\n",
      "******* Factors that had a Positive Effect on the Decision  *******\n",
      "\n",
      "   Loan_Amount_Term contributed 20.87%\n",
      "\n",
      "   Property_Area contributed 1.2%\n",
      "\n",
      "   LoanAmount contributed 1.03%\n",
      "\n",
      "   Dependents contributed 0.89%\n",
      "\n",
      "******* Factors that had a Negative Effect on the Decision  *******\n",
      "\n",
      "   `Married` contributed 2.94%\n",
      "\n",
      " Decision Factor `Married` had value `0.0`\n",
      " A total of 38.62% of decisions were favorable!\n",
      " A total of 41.80% of decisions were favorable!\n",
      "\n",
      "   `Self_Employed` contributed 2.56%\n",
      "\n",
      " Decision Factor `Self_Employed` had value `0.0`\n",
      " A total of 40.76% of decisions were favorable!\n",
      " A total of 40.58% of decisions were favorable!\n",
      "\n",
      "   `CoapplicantIncome` contributed 1.91%\n",
      "\n",
      "   `ApplicantIncome` contributed 1.31%\n"
     ]
    }
   ],
   "source": [
    "# Explain Prediction\n",
    "decision = prepared_data[\"test_df\"].iloc[idx], pred\n",
    "explaination = model.explain(dataset_key=\"train_df\", decision=decision)"
   ]
  },
  {
   "cell_type": "code",
   "execution_count": null,
   "metadata": {},
   "outputs": [],
   "source": []
  }
 ],
 "metadata": {
  "kernelspec": {
   "display_name": "venv",
   "language": "python",
   "name": "venv"
  },
  "language_info": {
   "codemirror_mode": {
    "name": "ipython",
    "version": 3
   },
   "file_extension": ".py",
   "mimetype": "text/x-python",
   "name": "python",
   "nbconvert_exporter": "python",
   "pygments_lexer": "ipython3",
   "version": "3.7.3"
  }
 },
 "nbformat": 4,
 "nbformat_minor": 4
}
