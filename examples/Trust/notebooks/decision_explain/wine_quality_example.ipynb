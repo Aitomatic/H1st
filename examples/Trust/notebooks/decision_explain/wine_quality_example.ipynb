{
 "cells": [
  {
   "cell_type": "code",
   "execution_count": 1,
   "metadata": {},
   "outputs": [],
   "source": [
    "import matplotlib.pyplot as plt\n",
    "import seaborn as sns\n",
    "import pandas as pd\n",
    "import numpy as np\n",
    "pd.set_option('display.max_columns', 999)\n",
    "pd.set_option('display.max_rows', 2000)"
   ]
  },
  {
   "cell_type": "code",
   "execution_count": 2,
   "metadata": {},
   "outputs": [],
   "source": [
    "import h1st as h1\n",
    "h1.init()\n",
    "from examples.Trust.models.wine_quality import WineQuality"
   ]
  },
  {
   "cell_type": "code",
   "execution_count": 3,
   "metadata": {},
   "outputs": [],
   "source": [
    "# Instantiate the LoanPrediction model\n",
    "model = WineQuality()"
   ]
  },
  {
   "cell_type": "code",
   "execution_count": 4,
   "metadata": {},
   "outputs": [],
   "source": [
    "# Load the Wine Quality dataset\n",
    "data = model.load_data()"
   ]
  },
  {
   "cell_type": "code",
   "execution_count": 5,
   "metadata": {},
   "outputs": [],
   "source": [
    "# Explore the Wine Quality Rating Labels\n",
    "# model.explore_data(data)"
   ]
  },
  {
   "cell_type": "code",
   "execution_count": 6,
   "metadata": {},
   "outputs": [],
   "source": [
    "# Prepare the data\n",
    "prepared_data = model.prep(data)"
   ]
  },
  {
   "cell_type": "code",
   "execution_count": 7,
   "metadata": {},
   "outputs": [],
   "source": [
    "# Train the Model\n",
    "model.train(prepared_data)"
   ]
  },
  {
   "cell_type": "code",
   "execution_count": 8,
   "metadata": {},
   "outputs": [
    {
     "data": {
      "text/plain": [
       "{'mape': 8.339983298235646}"
      ]
     },
     "execution_count": 8,
     "metadata": {},
     "output_type": "execute_result"
    }
   ],
   "source": [
    "# Evaluate the Model\n",
    "model.evaluate(prepared_data)"
   ]
  },
  {
   "cell_type": "code",
   "execution_count": 11,
   "metadata": {},
   "outputs": [],
   "source": [
    "# Make prediction\n",
    "idx = 15\n",
    "pred = model.predict(prepared_data[\"test_df\"].iloc[idx])"
   ]
  },
  {
   "cell_type": "code",
   "execution_count": 12,
   "metadata": {},
   "outputs": [
    {
     "name": "stdout",
     "output_type": "stream",
     "text": [
      "******* WineQuality decision 5.942918799666809 *******\n",
      "\n",
      "******* Factors considered when making the Decision *******\n",
      "\n",
      "    ['sulphates', 'alcohol', 'total_sulfur_dioxide', 'pH', 'chlorides', 'density', 'residual_sugar', 'citric_acid', 'fixed_acidity', 'free_sulfur_dioxide']   \n",
      "\n",
      "******* Factors that had a Positive Effect on the Decision  *******\n",
      "\n",
      "   sulphates contributed 30.4%\n",
      "\n",
      "   alcohol contributed 5.58%\n",
      "\n",
      "   total_sulfur_dioxide contributed 5.24%\n",
      "\n",
      "   pH contributed 2.41%\n",
      "\n",
      "   chlorides contributed 2.12%\n",
      "\n",
      "   density contributed 1.05%\n",
      "\n",
      "******* Factors that had a Negative Effect on the Decision  *******\n",
      "\n",
      "   `residual_sugar` contributed 4.47%\n",
      "\n",
      "   `citric_acid` contributed 3.63%\n",
      "\n",
      "   `fixed_acidity` contributed 2.99%\n",
      "\n",
      "   `free_sulfur_dioxide` contributed 2.2%\n"
     ]
    }
   ],
   "source": [
    "# Explain Prediction\n",
    "decision = prepared_data[\"test_df\"].iloc[idx], pred\n",
    "explaination = model.explain(dataset_key=\"train_df\", decision=decision)"
   ]
  },
  {
   "cell_type": "code",
   "execution_count": null,
   "metadata": {},
   "outputs": [],
   "source": []
  }
 ],
 "metadata": {
  "kernelspec": {
   "display_name": "venv",
   "language": "python",
   "name": "venv"
  },
  "language_info": {
   "codemirror_mode": {
    "name": "ipython",
    "version": 3
   },
   "file_extension": ".py",
   "mimetype": "text/x-python",
   "name": "python",
   "nbconvert_exporter": "python",
   "pygments_lexer": "ipython3",
   "version": "3.7.3"
  }
 },
 "nbformat": 4,
 "nbformat_minor": 4
}
