{
 "metadata": {
  "language_info": {
   "codemirror_mode": {
    "name": "ipython",
    "version": 3
   },
   "file_extension": ".py",
   "mimetype": "text/x-python",
   "name": "python",
   "nbconvert_exporter": "python",
   "pygments_lexer": "ipython3",
   "version": "3.7.6-final"
  },
  "orig_nbformat": 2,
  "kernelspec": {
   "name": "Python 3.7.6 64-bit ('base': conda)",
   "display_name": "Python 3.7.6 64-bit ('base': conda)",
   "metadata": {
    "interpreter": {
     "hash": "e3de8c0720197be977e11a9eb5da08fb6ea2c4c37cbfcda61460e034ecf5987c"
    }
   }
  }
 },
 "nbformat": 4,
 "nbformat_minor": 2,
 "cells": [
  {
   "cell_type": "code",
   "execution_count": 1,
   "metadata": {},
   "outputs": [],
   "source": [
    "class Profile:\n",
    "    \"\"\"\n",
    "    A Profile explores bias in a dataset w.r.t. a protected_attribute (e.g. race, gender,\n",
    "    disability). It stratifies the data into the classes found under the protected_attribute feature.\n",
    "    It then identifies differences between the strata and their output distributions.\n",
    "    TODO: If given a specific protected_class, it will stratify the data into two sets, protected and non-protected.\n",
    "    \"\"\"\n",
    "\n",
    "    def __init__(self, data, target, protected_attribute):\n",
    "        \"\"\"\n",
    "        Parameters:\n",
    "            data: DataFrame with features as column names.\n",
    "            target: Array of labels of the dataset.\n",
    "            protected_attribute: The feature of the data that is to be protected from discrimination. This column is assumed to be categorical.\n",
    "        \"\"\"\n",
    "        self.data = data\n",
    "        self.target = target\n",
    "        self.protected_attribute = protected_attribute\n",
    "\n",
    "        # partition data into a dict where keys are the category and the values are partitions of the dataset\n",
    "        self.stratified_data = {}\n",
    "        self.stratified_target = {}\n",
    "        categories = set(self.data[self.protected_attribute])\n",
    "        for category in categories:\n",
    "            index_vector = (self.data[self.protected_attribute] == category)\n",
    "            self.stratified_data[category] = self.data[index_vector]\n",
    "            self.stratified_target[category] = self.target[index_vector]\n",
    "        for key in self.stratified_data:\n",
    "            self.stratified_data[key] = self.stratified_data[key].drop(protected_attribute, axis=1)\n",
    "\n",
    "    def profile(self):\n",
    "        # compare sets with: basic statistics (box plots), histograms (of frequencies for labels and for each category within a protected class), (aif360 visuals)\n",
    "        # if label class is not given, highlight the strongest differences/correlations\n",
    "        pass\n"
   ]
  },
  {
   "cell_type": "code",
   "execution_count": 194,
   "metadata": {},
   "outputs": [],
   "source": [
    "import matplotlib.pyplot as plt\n",
    "from sklearn import datasets\n",
    "import pandas as pd\n",
    "import numpy as np\n",
    "import seaborn as sns"
   ]
  },
  {
   "cell_type": "code",
   "execution_count": 192,
   "metadata": {},
   "outputs": [],
   "source": [
    "iris_raw = datasets.load_iris()\n",
    "iris_data = pd.DataFrame(iris_raw.data, columns=iris_raw.feature_names)\n",
    "iris_target = iris_raw.target\n",
    "protected_attribute = iris.feature_names[0]\n",
    "categories = list(set(iris_data[protected_attribute]))"
   ]
  },
  {
   "cell_type": "code",
   "execution_count": 193,
   "metadata": {},
   "outputs": [],
   "source": [
    "pf = Profile(iris_data, iris_target, iris.feature_names[0])"
   ]
  },
  {
   "cell_type": "code",
   "execution_count": 190,
   "metadata": {},
   "outputs": [
    {
     "output_type": "stream",
     "name": "stdout",
     "text": [
      "    sepal width (cm)  petal length (cm)  petal width (cm)\n2                3.2                1.3               0.2\n29               3.2                1.6               0.2\n    sepal width (cm)  petal length (cm)  petal width (cm)\n33               4.2                1.4               0.2\n36               3.5                1.3               0.2\n53               2.3                4.0               1.3\n80               2.4                3.8               1.1\n81               2.4                3.7               1.0\n89               2.5                4.0               1.3\n90               2.6                4.4               1.2\n    sepal width (cm)  petal length (cm)  petal width (cm)\n4                3.6                1.4               0.2\n7                3.4                1.5               0.2\n25               3.0                1.6               0.2\n26               3.4                1.6               0.4\n35               3.2                1.2               0.2\n40               3.5                1.3               0.3\n43               3.5                1.6               0.6\n49               3.3                1.4               0.2\n60               2.0                3.5               1.0\n93               2.3                3.3               1.0\n     sepal width (cm)  petal length (cm)  petal width (cm)\n1                 3.0                1.4               0.2\n9                 3.1                1.5               0.1\n34                3.1                1.5               0.2\n37                3.6                1.4               0.1\n57                2.4                3.3               1.0\n106               2.5                4.5               1.7\n    sepal width (cm)  petal length (cm)  petal width (cm)\n0                3.5                1.4               0.2\n17               3.5                1.4               0.3\n19               3.8                1.5               0.3\n21               3.7                1.5               0.4\n23               3.3                1.7               0.5\n39               3.4                1.5               0.2\n44               3.8                1.9               0.4\n46               3.8                1.6               0.2\n98               2.5                3.0               1.1\n    sepal width (cm)  petal length (cm)  petal width (cm)\n3                3.1                1.5               0.2\n6                3.4                1.4               0.3\n22               3.6                1.0               0.2\n47               3.2                1.4               0.2\n    sepal width (cm)  petal length (cm)  petal width (cm)\n5                3.9                1.7               0.4\n10               3.7                1.5               0.2\n16               3.9                1.3               0.4\n20               3.4                1.7               0.2\n31               3.4                1.5               0.4\n84               3.0                4.5               1.5\n    sepal width (cm)  petal length (cm)  petal width (cm)\n8                2.9                1.4               0.2\n38               3.0                1.3               0.2\n42               3.2                1.3               0.2\n    sepal width (cm)  petal length (cm)  petal width (cm)\n11               3.4                1.6               0.2\n12               3.0                1.4               0.1\n24               3.4                1.9               0.2\n30               3.1                1.6               0.2\n45               3.0                1.4               0.3\n    sepal width (cm)  petal length (cm)  petal width (cm)\n13               3.0                1.1               0.1\n     sepal width (cm)  petal length (cm)  petal width (cm)\n14                4.0                1.2               0.2\n67                2.7                4.1               1.0\n82                2.7                3.9               1.2\n92                2.6                4.0               1.2\n101               2.7                5.1               1.9\n114               2.8                5.1               2.4\n142               2.7                5.1               1.9\n    sepal width (cm)  petal length (cm)  petal width (cm)\n50               3.2                4.7               1.4\n     sepal width (cm)  petal length (cm)  petal width (cm)\n102               3.0                5.9               2.1\n    sepal width (cm)  petal length (cm)  petal width (cm)\n41               2.3                1.3               0.3\n     sepal width (cm)  petal length (cm)  petal width (cm)\n61                3.0                4.2               1.5\n70                3.2                4.8               1.8\n149               3.0                5.1               1.8\n     sepal width (cm)  petal length (cm)  petal width (cm)\n64                2.9                3.6               1.3\n66                3.0                4.5               1.5\n69                2.5                3.9               1.1\n88                3.0                4.1               1.3\n94                2.7                4.2               1.3\n121               2.8                4.9               2.0\n     sepal width (cm)  petal length (cm)  petal width (cm)\n52                3.1                4.9               1.5\n120               3.2                5.7               2.3\n139               3.1                5.4               2.1\n141               3.1                5.1               2.3\n     sepal width (cm)  petal length (cm)  petal width (cm)\n54                2.8                4.6               1.5\n104               3.0                5.8               2.2\n110               3.2                5.1               2.0\n116               3.0                5.5               1.8\n147               3.0                5.2               2.0\n     sepal width (cm)  petal length (cm)  petal width (cm)\n51                3.2                4.5               1.5\n74                2.9                4.3               1.3\n111               2.7                5.3               1.9\n115               3.2                5.3               2.3\n128               2.8                5.6               2.1\n132               2.8                5.6               2.2\n137               3.1                5.5               1.8\n    sepal width (cm)  petal length (cm)  petal width (cm)\n58               2.9                4.6               1.3\n75               3.0                4.4               1.4\n     sepal width (cm)  petal length (cm)  petal width (cm)\n62                2.2                4.0               1.0\n78                2.9                4.5               1.5\n83                2.7                5.1               1.6\n85                3.4                4.5               1.6\n119               2.2                5.0               1.5\n138               3.0                4.8               1.8\n     sepal width (cm)  petal length (cm)  petal width (cm)\n63                2.9                4.7               1.4\n71                2.8                4.0               1.3\n73                2.8                4.7               1.2\n91                3.0                4.6               1.4\n127               3.0                4.9               1.8\n134               2.6                5.6               1.4\n     sepal width (cm)  petal length (cm)  petal width (cm)\n105               3.0                6.6               2.1\n     sepal width (cm)  petal length (cm)  petal width (cm)\n130               2.8                6.1               1.9\n     sepal width (cm)  petal length (cm)  petal width (cm)\n131               3.8                6.4               2.0\n     sepal width (cm)  petal length (cm)  petal width (cm)\n15                4.4                1.5               0.4\n18                3.8                1.7               0.3\n55                2.8                4.5               1.3\n79                2.6                3.5               1.0\n95                3.0                4.2               1.2\n96                2.9                4.2               1.3\n99                2.8                4.1               1.3\n113               2.5                5.0               2.0\n    sepal width (cm)  petal length (cm)  petal width (cm)\n48               3.7                1.5               0.2\n    sepal width (cm)  petal length (cm)  petal width (cm)\n27               3.5                1.5               0.2\n28               3.4                1.4               0.2\n32               4.1                1.5               0.1\n59               2.7                3.9               1.4\n     sepal width (cm)  petal length (cm)  petal width (cm)\n56                3.3                4.7               1.6\n72                2.5                4.9               1.5\n87                2.3                4.4               1.3\n100               3.3                6.0               2.5\n103               2.9                5.6               1.8\n123               2.7                4.9               1.8\n133               2.8                5.1               1.5\n136               3.4                5.6               2.4\n146               2.5                5.0               1.9\n     sepal width (cm)  petal length (cm)  petal width (cm)\n65                3.1                4.4               1.4\n77                3.0                5.0               1.7\n86                3.1                4.7               1.5\n108               2.5                5.8               1.8\n124               3.3                5.7               2.1\n140               3.1                5.6               2.4\n144               3.3                5.7               2.5\n145               3.0                5.2               2.3\n     sepal width (cm)  petal length (cm)  petal width (cm)\n68                2.2                4.5               1.5\n97                2.9                4.3               1.3\n126               2.8                4.8               1.8\n148               3.4                5.4               2.3\n     sepal width (cm)  petal length (cm)  petal width (cm)\n76                2.8                4.8               1.4\n112               3.0                5.5               2.1\n143               3.2                5.9               2.3\n     sepal width (cm)  petal length (cm)  petal width (cm)\n107               2.9                6.3               1.8\n     sepal width (cm)  petal length (cm)  petal width (cm)\n109               3.6                6.1               2.5\n125               3.2                6.0               1.8\n129               3.0                5.8               1.6\n     sepal width (cm)  petal length (cm)  petal width (cm)\n117               3.8                6.7               2.2\n118               2.6                6.9               2.3\n122               2.8                6.7               2.0\n135               3.0                6.1               2.3\n"
     ]
    }
   ],
   "source": [
    "sns.boxplot( )\n",
    "for key in pf.stratified_data:\n",
    "    print(pf.stratified_data[key])"
   ]
  },
  {
   "cell_type": "code",
   "execution_count": null,
   "metadata": {},
   "outputs": [],
   "source": []
  }
 ]
}